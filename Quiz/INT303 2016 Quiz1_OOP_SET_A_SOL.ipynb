{
 "cells": [
  {
   "cell_type": "markdown",
   "metadata": {},
   "source": [
    "# Quiz 1 : OOP (Set A)"
   ]
  },
  {
   "cell_type": "code",
   "execution_count": 5,
   "metadata": {
    "collapsed": false
   },
   "outputs": [
    {
     "name": "stdout",
     "output_type": "stream",
     "text": [
      "Area 200\n",
      "Area 176.71458676442586\n"
     ]
    }
   ],
   "source": [
    "import math\n",
    "class Rectangle(object):\n",
    "    def __init__(self,width,height):\n",
    "        self.width  = width\n",
    "        self.height = height\n",
    "    def area(self):\n",
    "        return self.width*self.height\n",
    "\n",
    "class Circle(object):\n",
    "    def __init__(self, diameter):\n",
    "        self.diameter = diameter\n",
    "    def area(self):\n",
    "        radius = self.diameter/2\n",
    "        return math.pi*radius*radius\n",
    "\n",
    "def showArea(shape):\n",
    "    print(\"Area\", shape.area())\n",
    "\n",
    "## Main Program #\n",
    "rec = Rectangle(20, 10)\n",
    "showArea(rec)\n",
    "\n",
    "cir = Circle(15)\n",
    "showArea(cir)"
   ]
  },
  {
   "cell_type": "code",
   "execution_count": 8,
   "metadata": {
    "collapsed": false
   },
   "outputs": [
    {
     "name": "stdout",
     "output_type": "stream",
     "text": [
      "6.0\n"
     ]
    }
   ],
   "source": [
    "# 5.\n",
    "\n",
    "print( 4 * 1.5)"
   ]
  },
  {
   "cell_type": "code",
   "execution_count": 9,
   "metadata": {
    "collapsed": false
   },
   "outputs": [
    {
     "name": "stdout",
     "output_type": "stream",
     "text": [
      "20\n"
     ]
    }
   ],
   "source": [
    "# 6.\n",
    "\n",
    "r1 = Rectangle(5, 4)\n",
    "print( r1.area() )\n"
   ]
  },
  {
   "cell_type": "code",
   "execution_count": 11,
   "metadata": {
    "collapsed": false
   },
   "outputs": [
    {
     "name": "stdout",
     "output_type": "stream",
     "text": [
      "catcatcat\n"
     ]
    }
   ],
   "source": [
    "# 7.\n",
    "print(\"cat\"*3)\n"
   ]
  },
  {
   "cell_type": "code",
   "execution_count": 19,
   "metadata": {
    "collapsed": false
   },
   "outputs": [
    {
     "name": "stdout",
     "output_type": "stream",
     "text": [
      "True\n"
     ]
    }
   ],
   "source": [
    "# 8-9.\n",
    "s = 'three'\n",
    "nums= {'one': 1, 'two': 2,'three': 3}\n",
    "if (nums[s] / 0.4 > 1):\n",
    "    print( 'True' )\n",
    "else:\n",
    "    print( 'False' )"
   ]
  },
  {
   "cell_type": "code",
   "execution_count": 21,
   "metadata": {
    "collapsed": false
   },
   "outputs": [
    {
     "name": "stdout",
     "output_type": "stream",
     "text": [
      "5 ['1¥', '5¥', '10¥']\n"
     ]
    }
   ],
   "source": [
    "# 10-11.\n",
    "coins=['1¥','5¥','10¥','50¥','100¥']\n",
    "print( len(coins), coins[:3] )\n"
   ]
  },
  {
   "cell_type": "code",
   "execution_count": 22,
   "metadata": {
    "collapsed": false
   },
   "outputs": [
    {
     "name": "stdout",
     "output_type": "stream",
     "text": [
      "[9, 11, 13]\n"
     ]
    }
   ],
   "source": [
    "# 12.\n",
    "seq = [10, 3, 5, 7, 9, 11, 13]\n",
    "print( seq[4:] )\n"
   ]
  },
  {
   "cell_type": "code",
   "execution_count": 28,
   "metadata": {
    "collapsed": true
   },
   "outputs": [],
   "source": [
    "# 14-15\n",
    "import math\n",
    "\n",
    "class Circle(object):\n",
    "    def __init__(self, diameter):\n",
    "        self.diameter = diameter\n",
    "    def area(self):\n",
    "        radius = self.diameter/2\n",
    "        return math.pi*radius*radius\n",
    "    def perimeter(self):\n",
    "        return math.pi*self.diameter\n",
    "    # OR\n",
    "    #    radius = self.diameter/2\n",
    "    #    return 2*math.pi*radius"
   ]
  },
  {
   "cell_type": "code",
   "execution_count": 29,
   "metadata": {
    "collapsed": false
   },
   "outputs": [
    {
     "name": "stdout",
     "output_type": "stream",
     "text": [
      "-3.1415926535897967\n"
     ]
    }
   ],
   "source": [
    "# 16\n",
    "\n",
    "c1 = Circle(12)\n",
    "c2 = Circle(13)\n",
    "print(c1.perimeter()-c2.perimeter())"
   ]
  },
  {
   "cell_type": "code",
   "execution_count": 32,
   "metadata": {
    "collapsed": true
   },
   "outputs": [],
   "source": [
    "# 17-18.\n",
    "# สร้าง list ชื่อตัวแปร mylist ที่เก็บตัวเลขสุ่มเป็นเลข 3 หลัก จำนวน 10 ตัวเลข\n",
    "from random import randint\n",
    "\n",
    "min = 100\n",
    "max = 999\n",
    "N = 10\n",
    "mylist = [ randint(min, max) for _ in range(N)]"
   ]
  },
  {
   "cell_type": "code",
   "execution_count": 33,
   "metadata": {
    "collapsed": false
   },
   "outputs": [
    {
     "data": {
      "text/plain": [
       "[952, 634, 331, 780, 471, 297, 713, 833, 213, 977]"
      ]
     },
     "execution_count": 33,
     "metadata": {},
     "output_type": "execute_result"
    }
   ],
   "source": [
    "mylist"
   ]
  },
  {
   "cell_type": "code",
   "execution_count": 34,
   "metadata": {
    "collapsed": false
   },
   "outputs": [
    {
     "ename": "NameError",
     "evalue": "name 'circle' is not defined",
     "output_type": "error",
     "traceback": [
      "\u001b[1;31m---------------------------------------------------------------------------\u001b[0m",
      "\u001b[1;31mNameError\u001b[0m                                 Traceback (most recent call last)",
      "\u001b[1;32m<ipython-input-34-2bcaa541083b>\u001b[0m in \u001b[0;36m<module>\u001b[1;34m()\u001b[0m\n\u001b[0;32m      1\u001b[0m \u001b[1;31m# 19\u001b[0m\u001b[1;33m\u001b[0m\u001b[1;33m\u001b[0m\u001b[0m\n\u001b[1;32m----> 2\u001b[1;33m \u001b[0mC2\u001b[0m \u001b[1;33m=\u001b[0m \u001b[0mcircle\u001b[0m\u001b[1;33m(\u001b[0m\u001b[1;36m12.\u001b[0m\u001b[1;33m)\u001b[0m\u001b[1;33m\u001b[0m\u001b[0m\n\u001b[0m",
      "\u001b[1;31mNameError\u001b[0m: name 'circle' is not defined"
     ]
    }
   ],
   "source": [
    "# 19\n",
    "C2 = circle(12.)"
   ]
  },
  {
   "cell_type": "code",
   "execution_count": 35,
   "metadata": {
    "collapsed": true
   },
   "outputs": [],
   "source": [
    "C2 = Circle(12.)"
   ]
  },
  {
   "cell_type": "code",
   "execution_count": null,
   "metadata": {
    "collapsed": true
   },
   "outputs": [],
   "source": [
    "C2.area()"
   ]
  }
 ],
 "metadata": {
  "kernelspec": {
   "display_name": "Python 3",
   "language": "python",
   "name": "python3"
  },
  "language_info": {
   "codemirror_mode": {
    "name": "ipython",
    "version": 3
   },
   "file_extension": ".py",
   "mimetype": "text/x-python",
   "name": "python",
   "nbconvert_exporter": "python",
   "pygments_lexer": "ipython3",
   "version": "3.4.4"
  }
 },
 "nbformat": 4,
 "nbformat_minor": 0
}
